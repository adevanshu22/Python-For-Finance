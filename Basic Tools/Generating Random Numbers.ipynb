{
 "cells": [
  {
   "cell_type": "code",
   "execution_count": 1,
   "metadata": {},
   "outputs": [],
   "source": [
    "import random"
   ]
  },
  {
   "cell_type": "code",
   "execution_count": 5,
   "metadata": {},
   "outputs": [
    {
     "name": "stdout",
     "output_type": "stream",
     "text": [
      "0.025498960998257214\n"
     ]
    }
   ],
   "source": [
    "prob = random.random()\n",
    "print(prob)"
   ]
  },
  {
   "cell_type": "code",
   "execution_count": 32,
   "metadata": {},
   "outputs": [
    {
     "data": {
      "text/plain": [
       "array([0.70898497, 0.1495401 , 0.96886516, 0.6581613 , 0.17679654,\n",
       "       0.36266529, 0.79363603, 0.9943204 , 0.72982172, 0.53409163])"
      ]
     },
     "execution_count": 32,
     "metadata": {},
     "output_type": "execute_result"
    }
   ],
   "source": [
    "np.random.random(10)"
   ]
  },
  {
   "cell_type": "code",
   "execution_count": 23,
   "metadata": {},
   "outputs": [
    {
     "name": "stdout",
     "output_type": "stream",
     "text": [
      "2\n"
     ]
    }
   ],
   "source": [
    "num = random.randint(1, 10)\n",
    "print(num)"
   ]
  },
  {
   "cell_type": "code",
   "execution_count": 24,
   "metadata": {},
   "outputs": [],
   "source": [
    "import numpy as np"
   ]
  },
  {
   "cell_type": "code",
   "execution_count": 29,
   "metadata": {},
   "outputs": [
    {
     "data": {
      "text/plain": [
       "array([[ 5,  5,  6,  4,  9,  7,  1, 10,  4,  1],\n",
       "       [ 6,  5,  7, 10,  2,  7,  6,  3,  8, 10],\n",
       "       [ 1,  7,  5,  2,  3, 10,  4,  5,  7,  1],\n",
       "       [ 5, 10,  5,  6,  3,  5,  2, 10,  4,  3],\n",
       "       [ 6,  5,  2,  3,  2,  1,  1,  3,  6, 10],\n",
       "       [ 2, 10,  4,  1,  7, 10,  9,  3, 10,  6],\n",
       "       [ 9,  2,  6,  7,  7,  3,  3,  2,  9,  6],\n",
       "       [ 4,  4,  4,  4,  7,  3,  8,  7,  9,  8],\n",
       "       [ 7,  2,  5,  8,  8,  8,  9,  7, 10,  2],\n",
       "       [10,  3,  9,  9,  4,  3,  5,  2,  8,  3]])"
      ]
     },
     "execution_count": 29,
     "metadata": {},
     "output_type": "execute_result"
    }
   ],
   "source": [
    "np.random.randint(1, 11, (10, 10))"
   ]
  },
  {
   "cell_type": "code",
   "execution_count": null,
   "metadata": {},
   "outputs": [],
   "source": []
  }
 ],
 "metadata": {
  "kernelspec": {
   "display_name": "Python 3",
   "language": "python",
   "name": "python3"
  },
  "language_info": {
   "codemirror_mode": {
    "name": "ipython",
    "version": 3
   },
   "file_extension": ".py",
   "mimetype": "text/x-python",
   "name": "python",
   "nbconvert_exporter": "python",
   "pygments_lexer": "ipython3",
   "version": "3.8.5"
  }
 },
 "nbformat": 4,
 "nbformat_minor": 4
}
